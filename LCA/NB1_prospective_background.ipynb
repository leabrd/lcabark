{
 "cells": [
  {
   "cell_type": "markdown",
   "id": "0184733a-7774-4918-92a5-5d7d92b09a42",
   "metadata": {},
   "source": [
    "<FONT size=\"5.9pt\"> **NB1 - PROSPECTIVE CONSEQUENTIAL BACKGROUND DATABASES (ECOINVENT 3.9)**\n",
    "</FONT> \n",
    "\n",
    "\n",
    "This Jupyter Notebook was used to generate the future background databases for the consequential prospective LCA study of bark combustion versus biorefinery using the [*premise*](https://github.com/polca/premise) Python library. The use of *premise* requires a unique **\"decryption key\"** to run the code that can be obtained by contacting the developer (see documentation). "
   ]
  },
  {
   "cell_type": "code",
   "execution_count": null,
   "id": "dc764f5e-e825-4b4a-8f9c-32ec57340fa2",
   "metadata": {},
   "outputs": [],
   "source": [
    "import os\n",
    "from shutil import copyfile\n",
    "import pathlib\n",
    "from pathlib import Path\n",
    "import numpy as np\n",
    "import pandas as pd\n",
    "import matplotlib.pyplot as plt"
   ]
  },
  {
   "cell_type": "code",
   "execution_count": null,
   "id": "59ce42a4-3c33-41f6-b664-f8f200316932",
   "metadata": {},
   "outputs": [],
   "source": [
    "# define the initial working directory\n",
    "wdir = Path().resolve() # get the directory of the notebook\n",
    "pdir = os.path.join(wdir,'projects')\n",
    "print(f\"Working Directory: {wdir}\")\n",
    "\n",
    "# set the BW project directory\n",
    "pathlib.Path(pdir).mkdir(parents=True, exist_ok=True)\n",
    "os.environ['BRIGHTWAY2_DIR'] = pdir\n",
    "print('Project directory:', os.environ['BRIGHTWAY2_DIR'])\n",
    "\n",
    "# set the directory to store the results\n",
    "result_dir = os.path.join(wdir,'results')   \n",
    "pathlib.Path(result_dir).mkdir(parents=True, exist_ok=True)\n",
    "print('Results directory:', result_dir)\n",
    "\n",
    "# set the directory in which the databases are stored\n",
    "db_dir = os.path.join(wdir,'databases')\n",
    "pathlib.Path(db_dir).mkdir(parents=True, exist_ok=True)\n",
    "print('Databases directory:', db_dir)"
   ]
  },
  {
   "cell_type": "code",
   "execution_count": null,
   "id": "242b2d4c-2749-40dd-9d03-83c2472e1cd9",
   "metadata": {},
   "outputs": [],
   "source": [
    "import lca_algebraic as alg\n",
    "import brightway2 as bw"
   ]
  },
  {
   "cell_type": "markdown",
   "id": "6a0dda4e-2e7a-4761-bb38-e58886473869",
   "metadata": {},
   "source": [
    "# 1. Set up a project"
   ]
  },
  {
   "cell_type": "code",
   "execution_count": null,
   "id": "98611c2e-fa45-41d7-8501-882eab057dc2",
   "metadata": {},
   "outputs": [],
   "source": [
    "# Create or select a project \n",
    "project_name = 'lca_bark'\n",
    "bw.projects.set_current(project_name)\n",
    "\n",
    "if project_name in bw.projects:\n",
    "    bw.projects.set_current(project_name)\n",
    "    print('Current project: %s  \\nLocation: %s' % (bw.projects.current, bw.projects.dir))\n",
    "else: \n",
    "    bw.projects.create_project(project_name)\n",
    "    bw.projects.set_current(project_name)\n",
    "    print('Current project: %s  \\nLocation: %s' %  (bw.projects.current, bw.projects.dir))\n",
    "\n",
    "# Check that the project was added to the directory\n",
    "print(bw.projects)"
   ]
  },
  {
   "cell_type": "markdown",
   "id": "64051b86-0f41-46fb-a185-7492204edccd",
   "metadata": {},
   "source": [
    "# 2. Import biosphere3"
   ]
  },
  {
   "cell_type": "code",
   "execution_count": null,
   "id": "cdec301d-7ab5-4b64-869d-c9f9a4ef2cd3",
   "metadata": {},
   "outputs": [],
   "source": [
    "if 'biosphere3' in bw.databases:\n",
    "        print('biosphere3 has already been imported in the project.')\n",
    "else:\n",
    "    bw.bw2setup()"
   ]
  },
  {
   "cell_type": "markdown",
   "id": "2d0fb5cc-fece-48e5-9e61-f5f9ca5abaf1",
   "metadata": {},
   "source": [
    "# 3. Import ecoinvent 3.9 consequential"
   ]
  },
  {
   "cell_type": "code",
   "execution_count": null,
   "id": "bae7a701-8144-4b7f-a2fc-eeeb09ebf8fc",
   "metadata": {},
   "outputs": [],
   "source": [
    "from  bw2io import SingleOutputEcospold2Importer\n",
    "\n",
    "ei_dir = str(str(db_dir)+'/ecoinvent 3.9_consequential_ecoSpold02/datasets')\n",
    "print(ei_dir)\n",
    "\n",
    "if 'ecoinvent_3.9_conseq' in bw.databases:\n",
    "        print(\"ecoinvent 3.9 consequential has already been imported\")\n",
    "    \n",
    "else:\n",
    "    ei = SingleOutputEcospold2Importer(ei_dir, 'ecoinvent_3.9_conseq',use_mp=False)\n",
    "    ei.apply_strategies()\n",
    "    ei.statistics()\n",
    "    ei.write_database()\n",
    "    \n",
    "bw.databases"
   ]
  },
  {
   "cell_type": "markdown",
   "id": "fd54a138-ec41-4820-ae19-d10cdcb9d6ce",
   "metadata": {},
   "source": [
    "# 4. Generate future versions of ecoinvent using premise"
   ]
  },
  {
   "cell_type": "code",
   "execution_count": null,
   "id": "9c34c0e6-15cf-4f4d-afaa-2f8bc5caec1f",
   "metadata": {},
   "outputs": [],
   "source": [
    "from premise import *"
   ]
  },
  {
   "cell_type": "code",
   "execution_count": null,
   "id": "b326a5a1-ad67-47df-a354-d860bfed4304",
   "metadata": {},
   "outputs": [],
   "source": [
    "clear_cache()"
   ]
  },
  {
   "cell_type": "code",
   "execution_count": null,
   "id": "9c2fbb41-9bd8-4b6e-9f77-6ff528dce169",
   "metadata": {},
   "outputs": [],
   "source": [
    "# the values can be changed - see https://chemrxiv.org/engage/chemrxiv/article-details/63ee10cdfcfb27a31fe227d\n",
    "args = {\n",
    "    \"range time\":0, #2\n",
    "    \"duration\":0,\n",
    "    \"foresight\":False,\n",
    "    \"lead time\":False,\n",
    "    \"capital replacement rate\":False,\n",
    "    \"measurement\": 0,\n",
    "    \"weighted slope start\": 0.75,\n",
    "    \"weighted slope end\": 1.00\n",
    "}"
   ]
  },
  {
   "cell_type": "code",
   "execution_count": null,
   "id": "79448092-9dd3-40bb-810a-1bb7d51f5fad",
   "metadata": {},
   "outputs": [],
   "source": [
    "ndb = NewDatabase(\n",
    "    scenarios=[\n",
    "        #{\"model\":\"remind\", \"pathway\":\"SSP2-PkBudg500\", \"year\":2045},\n",
    "        #{\"model\":\"remind\", \"pathway\":\"SSP2-Base\", \"year\":2045},\n",
    "        #{\"model\":\"remind\", \"pathway\":\"SSP1-PkBudg500\", \"year\":2045},\n",
    "        {\"model\":\"image\", \"pathway\":\"SSP2-Base\", \"year\":2045}\n",
    "    ],\n",
    "    source_db=\"ecoinvent_3.9_conseq\",\n",
    "    source_version=\"3.9\",\n",
    "    key='', ## DECRYPTION KEY TO BE ADDED HERE\n",
    "    system_model=\"consequential\",\n",
    "    system_args=args\n",
    ")"
   ]
  },
  {
   "cell_type": "code",
   "execution_count": null,
   "id": "cebb2de4-7b02-4f5a-a7ea-9e31cf8727c3",
   "metadata": {},
   "outputs": [],
   "source": [
    "ndb.update(\"electricity\")\n",
    "ndb.update(\"fuels\")\n",
    "ndb.write_db_to_brightway()"
   ]
  },
  {
   "cell_type": "code",
   "execution_count": null,
   "id": "208cdc0e-39b5-49fd-99e8-e13791ae1206",
   "metadata": {},
   "outputs": [],
   "source": [
    "bw.databases"
   ]
  }
 ],
 "metadata": {
  "kernelspec": {
   "display_name": "Python 3 (ipykernel)",
   "language": "python",
   "name": "python3"
  },
  "language_info": {
   "codemirror_mode": {
    "name": "ipython",
    "version": 3
   },
   "file_extension": ".py",
   "mimetype": "text/x-python",
   "name": "python",
   "nbconvert_exporter": "python",
   "pygments_lexer": "ipython3",
   "version": "3.11.6"
  }
 },
 "nbformat": 4,
 "nbformat_minor": 5
}
