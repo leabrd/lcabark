{
 "cells": [
  {
   "cell_type": "markdown",
   "id": "2246db8c-a1d1-478a-b90d-7e970254f060",
   "metadata": {},
   "source": [
    "<FONT size=\"5.9pt\"> **NB2 - PROSPECTIVE CONSEQUENTIAL LCA OF BARK BIOREFINING - PART 1**\n",
    "</FONT> \n",
    "\n",
    "This Jupyter Notebook was used to conduct an environmental prospective consequential LCA study comparing bark combustion and biorefinery processes (see main manuscript). The [*lca_algebraic*](https://link.springer.com/article/10.1007/s11367-021-01993-z) library was used to build the parameterised LCA model; refer to its [documentation](https://github.com/oie-mines-paristech/lca_algebraic/tree/master) for details. Time-differenciated climate impacts were calculated using dynamic characterisation factors (DCFs) from Levasseur et al. (2010) over a 100-year time horizon, based on the ALIGNED guidelines ([Hamelin et al., 2024](https://zenodo.org/records/10843259)). Other impact categories from the IPCC2021 and ReCiPe 2016 LCIA methods were also included. This Part 1 builds a parameterised model to perform the comparative LCA study using the IPCC 2021 and ReCiPe 2016 LCIA methods. The time-differentiated climate impacts are calculated in Part 2. "
   ]
  },
  {
   "cell_type": "markdown",
   "id": "90ddb106-bb70-4488-b929-2ef8f3743424",
   "metadata": {},
   "source": [
    "# 1. Set-up the directories <a class=\"anchor\" id=\"section1\"></a> \n",
    "\n",
    "It is advised to create a new folder in which the Jupyter Notebooks are downloaded from the GitHub repository and saved. A \"results\" folder will be created to store all outputs of the code (e.g., graphs, tables). This code uploads the ecoinvent database from a local directory. Therefore, a license for the ecoinvent is required and the database should be stored on your computer directly."
   ]
  },
  {
   "cell_type": "code",
   "execution_count": null,
   "id": "6c3218f1-56aa-4ba1-ae8a-244797f6151c",
   "metadata": {},
   "outputs": [],
   "source": [
    "import os\n",
    "from shutil import copyfile\n",
    "import pathlib\n",
    "from pathlib import Path\n",
    "import numpy as np\n",
    "import pandas as pd\n",
    "import matplotlib.pyplot as plt"
   ]
  },
  {
   "cell_type": "code",
   "execution_count": null,
   "id": "8e7286d0-10db-41cc-89be-8580b9769814",
   "metadata": {},
   "outputs": [],
   "source": [
    "# define the initial working directory\n",
    "wdir = Path().resolve() # get the directory of the notebook\n",
    "pdir = os.path.join(wdir,'projects')\n",
    "print(f\"Working Directory: {wdir}\")\n",
    "\n",
    "# set the BW project directory\n",
    "pathlib.Path(pdir).mkdir(parents=True, exist_ok=True)\n",
    "os.environ['BRIGHTWAY2_DIR'] = pdir\n",
    "print('Project directory:', os.environ['BRIGHTWAY2_DIR'])\n",
    "\n",
    "# set the directory to store the results\n",
    "result_dir = os.path.join(wdir,'results')   \n",
    "pathlib.Path(result_dir).mkdir(parents=True, exist_ok=True)\n",
    "print('Results directory:', result_dir)\n",
    "\n",
    "# set the directory in which the databases are stored\n",
    "db_dir = os.path.join(wdir,'databases')\n",
    "pathlib.Path(db_dir).mkdir(parents=True, exist_ok=True)\n",
    "print('Databases directory:', db_dir)"
   ]
  },
  {
   "cell_type": "markdown",
   "id": "9b3f2e8c-3765-490e-b278-cb65467b1b4f",
   "metadata": {},
   "source": [
    "# 2. Import background databases <a class=\"anchor\" id=\"section2\"></a>\n",
    "\n",
    "The background databases used in this study correspond to ecoinvent 3.9 consequential and biosphere3. Several versions of the ecoinvent database were generated using the [*premise*](https://www.sciencedirect.com/science/article/pii/S136403212200226X) Python library (see Jupyter Notebook NB1). "
   ]
  },
  {
   "cell_type": "code",
   "execution_count": null,
   "id": "14365bf0-13f4-4505-b5ce-36780ea95050",
   "metadata": {
    "scrolled": true
   },
   "outputs": [],
   "source": [
    "import lca_algebraic as alg\n",
    "import brightway2 as bw\n",
    "\n",
    "# initiate the project / choose project name\n",
    "alg.initProject('lca_bark') ### NAME OF THE PROJECT CAN BE CHANGED\n",
    "\n",
    "# import the ecoinvent database from a local directory\n",
    "alg.importDb(\"ecoinvent_3.9_conseq\", str(db_dir + '/ecoinvent 3.9_consequential_ecoSpold02/datasets')) ## VERSION OF ECOINVENT TO BE CHANGED\n",
    "\n",
    "# overview of the databases\n",
    "alg.list_databases()"
   ]
  },
  {
   "cell_type": "markdown",
   "id": "80e000cc-6dc8-41bb-8692-5826bcc9af41",
   "metadata": {},
   "source": [
    "# 3. Create foreground databases <a class=\"anchor\" id=\"section3\"></a>"
   ]
  },
  {
   "cell_type": "code",
   "execution_count": null,
   "id": "5eb74406-2d65-4e3c-915d-8ba7c84837bf",
   "metadata": {},
   "outputs": [],
   "source": [
    "USER_DB = 'Foreground DB' ## NAME OF THE FOREGROUND DATABASE CAN BE CHANGED\n",
    "alg.resetDb(USER_DB)\n",
    "alg.resetParams()"
   ]
  },
  {
   "cell_type": "markdown",
   "id": "7420c8e1-4761-467b-a618-540883e82a9c",
   "metadata": {},
   "source": [
    "## 3.1. Get ecoinvent datasets"
   ]
  },
  {
   "cell_type": "code",
   "execution_count": null,
   "id": "396e299f-3d67-4069-8ed3-76efb4c71ea6",
   "metadata": {},
   "outputs": [],
   "source": [
    "# Choose which version of ecoinvent to perform the LCA calculations with\n",
    "#ei = 'ecoinvent_3.9_conseq'\n",
    "#ei = 'ecoinvent_consequential_3.9_remind_SSP2-PkBudg500_2045'\n",
    "#ei = 'ecoinvent_consequential_3.9_remind_SSP2-Base_2045'\n",
    "#ei = 'ecoinvent_consequential_3.9_remind_SSP1-PkBudg500_2045'\n",
    "ei = 'ecoinvent_consequential_3.9_image_SSP2-Base_2045'"
   ]
  },
  {
   "cell_type": "code",
   "execution_count": null,
   "id": "a522dc4f-1fa3-46f0-9580-4d6b37d8c83d",
   "metadata": {},
   "outputs": [],
   "source": [
    "# technopshere flows\n",
    "grid_SE = alg.findActivity(name='market for electricity, high voltage', loc = 'SE', db_name=ei) \n",
    "grid_RER = alg.findActivity(name='market group for electricity, high voltage', loc = 'RER', db_name=ei) \n",
    "ethylacetate = alg.findActivity(name='ethyl acetate production', loc = 'RER', db_name=ei) \n",
    "CO2 = alg.findActivity(name='carbon dioxide production, liquid', loc = 'RER', db_name=ei)\n",
    "sodiumbicarbonate = alg.findActivity(name='market for sodium bicarbonate', loc = 'GLO', db_name=ei)\n",
    "sodiumhydroxide = alg.findActivity(name='market for sodium hydroxide, without water, in 50% solution state', loc = 'GLO', db_name=ei)\n",
    "quicklime = alg.findActivity(name='quicklime production, milled, loose', loc = 'CH', db_name=ei)\n",
    "wwt = alg.findActivity(name='treatment of wastewater, average, wastewater treatment', loc = 'Europe without Switzerland', db_name=ei)\n",
    "mw_RER = alg.findActivity(name='market group for municipal solid waste', loc = 'RER', db_name=ei) \n",
    "heatwoodchips = alg.findActivity(name='heat production, wood chips from industry, at furnace 50kW', loc = 'CH', db_name=ei)\n",
    "\n",
    "# substituted products\n",
    "talloil = alg.findActivity(name='tall oil refinery operation', loc = 'GLO', db_name=ei) \n",
    "potatostarch = alg.findActivity(name='potato starch production', loc = 'DE', db_name=ei) \n",
    "phenol = alg.findActivity(name='phenol production, from cumene', loc = 'RER', db_name=ei)\n",
    "pulp = alg.findActivity(name='sulfate pulp production, from softwood, unbleached', loc = 'RER', db_name=ei)\n",
    "limestone = alg.findActivity(name='market for limestone residue', loc = 'CH', db_name=ei)\n",
    "\n",
    "# biosphere flows\n",
    "ethylacetateemission = alg.findActivity(name='Ethyl acetate', db_name='biosphere3', categories = ('air',))\n",
    "water = alg.findActivity(name='Water, river', db_name='biosphere3', categories = ('natural resource','in water'))\n",
    "carbondioxide = alg.findActivity(name='Carbon dioxide, fossil', db_name='biosphere3', categories = ('air',))\n",
    "carbondioxidenonfossil = alg.findActivity(name='Carbon dioxide, non-fossil', db_name='biosphere3', categories = ('air',))"
   ]
  },
  {
   "cell_type": "markdown",
   "id": "63663c8c-849c-4397-a1bb-963014ebc59a",
   "metadata": {},
   "source": [
    "## 3.2. Modify the ecoinvent dataset for heat production via cogeneration\n",
    "\n",
    "The ecoinvent dataset for heat production from wood chips was used to model the environmental burdens of marginal heat supply in both biorefinery configurations. It was also used to calculate the impacts of bark combustion in the combustion scenario and residual biomass combustion in the biorefineries. The dataset was adapted for each specific application (see below)."
   ]
  },
  {
   "cell_type": "code",
   "execution_count": null,
   "id": "60c3ee78-72d5-469a-a33c-773808ccce8a",
   "metadata": {},
   "outputs": [],
   "source": [
    "# dataset selected in ecoinvent\n",
    "heat = alg.findActivity(name='heat and power co-generation, wood chips, 6667 kW, state-of-the-art 2014', loc = 'SE', db_name=ei)"
   ]
  },
  {
   "cell_type": "markdown",
   "id": "0c7ea7dc-c0ac-4698-ae9b-1e3bcf298b4e",
   "metadata": {},
   "source": [
    "### 3.2.1. Combustion of bark \n",
    "\n",
    "The new dataset \"heat_CHP_bark\" includes the impacts associated with the cogeneration process itself, excluding those from wood chip production (assumed similar to bark) and direct non-fossil emissions from wood combustion. The system boundaries exclude bark production (as this process is similar in all three assessed scenarios), while biogenic carbon emissions are accounted for separately. Since the properties of wood chips and bark are similar, it was assumed that combustion processes would result in the same impacts regardless of whether wood chips or bark are used as input."
   ]
  },
  {
   "cell_type": "code",
   "execution_count": null,
   "id": "1fd557e5-6384-484f-912f-55a10e8ed5a1",
   "metadata": {},
   "outputs": [],
   "source": [
    "heat_CHP_bark = alg.copyActivity(USER_DB, heat, code = 'heat and power co-generation, wood chips, 6667 kW, state-of-the-art 2014', withExchanges=True)\n",
    "heat_CHP_bark.deleteExchanges('Carbon dioxide, non-fossil')\n",
    "heat_CHP_bark.deleteExchanges('Carbon monoxide, non-fossil')\n",
    "if ei == 'ecoinvent_3.9_conseq':\n",
    "    heat_CHP_bark.deleteExchanges('wood chips, wet, measured as dry mass') # for ecoinvent 3.9\n",
    "else:    \n",
    "    heat_CHP_bark.deleteExchanges('market for wood chips, wet, measured as dry mass')\n",
    "#alg.printAct(heat_CHP_bark)"
   ]
  },
  {
   "cell_type": "markdown",
   "id": "c7b4c13a-351c-4c43-821f-489005d995ae",
   "metadata": {},
   "source": [
    "### 3.2.2. Burdens from marginal heat production\n",
    "\n",
    "The unmodified ecoinvent dataset was used as a basis. Here, the objective is to model the heat production from wood chips that would be required to compensate for the heat produced when bark is combusted in the business-as-usual scenario (i.e. combustion scenario). The total amount of heat that would need to be produced for compensation corresponds to the total amount of heat resulting from the combustion of 1 kg DW-eq of bark minus the heat produced via combustion of the residual biomass obtained in the biorefinery. The original process extracted from ecoinvent is not changed since the impacts from wood chips production and combustion are accounted for. The biogenic CO2 and CO from the cogeneration process are not removed. The original activity is simply copied and given a new name for distinction."
   ]
  },
  {
   "cell_type": "code",
   "execution_count": null,
   "id": "3bc89872-3d4f-4ed9-8b1d-d83ecf38ca00",
   "metadata": {},
   "outputs": [],
   "source": [
    "heat_CHP_woodchips = alg.copyActivity(USER_DB, heat, code = 'heat and power co-generation, wood chips, 6667 kW, state-of-the-art 2014', withExchanges=True)"
   ]
  },
  {
   "cell_type": "markdown",
   "id": "2049b25b-eeb8-4f59-8899-fcbaf1398580",
   "metadata": {},
   "source": [
    "### 3.2.3. Heat production from residual biomass\n",
    "\n",
    "Again, the same ecoinvent dataset is used as a basis. The amount of residual biomass produced at each processing step is calculated from the mass and carbon balance. The amount of heat produced is calculated using the relation: 1 kg dry mass => 8.5 MJ according to the ecoinvent dataset for heat from cogeneration using wood chips. The same dataset as the one used for heat production from bark is used. No impacts from the biomass and no direct emissions are accounted for. A new name is given for distinction. "
   ]
  },
  {
   "cell_type": "code",
   "execution_count": null,
   "id": "6d9c4214-19c2-4594-8257-e3cf6cb7f74a",
   "metadata": {},
   "outputs": [],
   "source": [
    "heat_CHP_RB = alg.copyActivity(USER_DB, heat, code = 'heat and power co-generation, wood chips, 6667 kW, state-of-the-art 2014', withExchanges=True)\n",
    "heat_CHP_RB.deleteExchanges('Carbon dioxide, non-fossil')\n",
    "heat_CHP_RB.deleteExchanges('Carbon monoxide, non-fossil')\n",
    "if ei == 'ecoinvent_3.9_conseq':\n",
    "    heat_CHP_RB.deleteExchanges('wood chips, wet, measured as dry mass') # ecoinvent 3.9\n",
    "else:\n",
    "    heat_CHP_RB.deleteExchanges('market for wood chips, wet, measured as dry mass')"
   ]
  },
  {
   "cell_type": "code",
   "execution_count": null,
   "id": "cc92ecab-34fd-4e7e-960f-e6b94f49a74c",
   "metadata": {},
   "outputs": [],
   "source": [
    "# check the climae impacts of heat production using IPCC 2021\n",
    "ipcc2021 = alg.findMethods('global warming potential (GWP100)', 'IPCC 2021')[0]\n",
    "climate_impacts_heat_CHP_RB = alg.compute_impacts([heat_CHP_RB],[ipcc2021])\n",
    "climate_impacts_heat_CHP_RB"
   ]
  },
  {
   "cell_type": "markdown",
   "id": "408927ad-070f-43ff-a528-edadc38b8b6e",
   "metadata": {},
   "source": [
    "# 4. Create foreground parameters <a class=\"anchor\" id=\"section4\"></a>\n",
    "\n",
    "## 4.1. Evaluate the influence of the geographical location\n",
    "\n",
    "In the sensititvity analysis, the influence of the geographical location on the LCA results is analysed. There are no European market for heat production from cogeneration in the consequential ecoinvent v.3.9 database. However, the dataset exists for many locations. The only differences between the datasets are the electricity mix and the municipal solid waste treatment. Here, both the electricity mix and the waste treatment processes are changed based on the geographical location. List of countries analysed in the sensitivity analysis: SE, NO, FI, DK, FR, DE, BE, LU, NL, AT."
   ]
  },
  {
   "cell_type": "code",
   "execution_count": null,
   "id": "28343dc1-d260-4ac6-b8da-ae1139260b16",
   "metadata": {},
   "outputs": [],
   "source": [
    "# SE and RER have already been created above\n",
    "grid_NO = alg.findActivity(name='market for electricity, high voltage', loc = 'NO', db_name=ei) \n",
    "grid_FI = alg.findActivity(name='market for electricity, high voltage', loc = 'FI', db_name=ei) \n",
    "grid_DK = alg.findActivity(name='market for electricity, high voltage', loc = 'DK', db_name=ei) \n",
    "grid_FR = alg.findActivity(name='market for electricity, high voltage', loc = 'FR', db_name=ei) \n",
    "grid_DE = alg.findActivity(name='market for electricity, high voltage', loc = 'DE', db_name=ei) \n",
    "grid_BE = alg.findActivity(name='market for electricity, high voltage', loc = 'BE', db_name=ei) \n",
    "grid_LU = alg.findActivity(name='market for electricity, high voltage', loc = 'LU', db_name=ei) \n",
    "grid_NL = alg.findActivity(name='market for electricity, high voltage', loc = 'NL', db_name=ei) \n",
    "grid_AT = alg.findActivity(name='market for electricity, high voltage', loc = 'AT', db_name=ei) \n",
    "\n",
    "# RER has already been created above\n",
    "mw_SE = alg.findActivity(name='market for municipal solid waste', loc = 'SE', db_name=ei) \n",
    "mw_NO = alg.findActivity(name='market for municipal solid waste', loc = 'NO', db_name=ei) \n",
    "mw_FI = alg.findActivity(name='market for municipal solid waste', loc = 'FI', db_name=ei) \n",
    "mw_DK = alg.findActivity(name='market for municipal solid waste', loc = 'DK', db_name=ei) \n",
    "mw_FR = alg.findActivity(name='market for municipal solid waste', loc = 'FR', db_name=ei) \n",
    "mw_DE = alg.findActivity(name='market for municipal solid waste', loc = 'DE', db_name=ei) \n",
    "mw_BE = alg.findActivity(name='market for municipal solid waste', loc = 'BE', db_name=ei) \n",
    "mw_LU = alg.findActivity(name='market for municipal solid waste', loc = 'LU', db_name=ei) \n",
    "mw_NL = alg.findActivity(name='market for municipal solid waste', loc = 'NL', db_name=ei) \n",
    "mw_AT = alg.findActivity(name='market for municipal solid waste', loc = 'AT', db_name=ei) "
   ]
  },
  {
   "cell_type": "code",
   "execution_count": null,
   "id": "b6fbd697-1a26-44a8-81e5-f6737a00d213",
   "metadata": {},
   "outputs": [],
   "source": [
    "# create switch parameter for electricity mix - default value is SE\n",
    "grid_loc = alg.newEnumParam(\n",
    "    name = 'grid_loc',\n",
    "    values = ['grid_SE','grid_NO','grid_FI','grid_DK','grid_FR','grid_DE','grid_BE','grid_LU','grid_NL','grid_AT','grid_RER'],\n",
    "    default = 'grid_SE',\n",
    "    #label = 'source of electricity - biorefinery',\n",
    "    description = \"Switch on the source of electricty used in the biorefinery\",\n",
    "    group = 'energy')\n",
    "\n",
    "# create the virtual activity corresponding to the switch\n",
    "grid_switch_act = alg.newSwitchAct(dbname = USER_DB,\n",
    "                                   name = 'grid_switch_act',\n",
    "                                   paramDef = grid_loc,\n",
    "                                   acts_dict = {'grid_SE' : grid_SE,\n",
    "                                                'grid_NO': grid_NO,\n",
    "                                                'grid_FI': grid_FI,\n",
    "                                                'grid_DK': grid_DK,\n",
    "                                                'grid_FR': grid_FR,\n",
    "                                                'grid_DE': grid_DE,\n",
    "                                                'grid_BE': grid_BE,\n",
    "                                                'grid_LU': grid_LU,\n",
    "                                                'grid_NL': grid_NL,\n",
    "                                                'grid_AT': grid_AT,\n",
    "                                                'grid_RER': grid_RER})"
   ]
  },
  {
   "cell_type": "code",
   "execution_count": null,
   "id": "6d0ef03f-80fb-447a-ae84-ee6716f45285",
   "metadata": {},
   "outputs": [],
   "source": [
    "# create switch parameter for municipal solid waste treatment - default value is RER\n",
    "mw_loc = alg.newEnumParam(\n",
    "    name = 'mw_loc',\n",
    "    values = ['mw_SE','mw_NO','mw_FI','mw_DK','mw_FR','mw_DE','mw_BE','mw_LU','mw_NL','mw_AT','mw_RER'],\n",
    "    default = 'mw_RER',\n",
    "    #label = 'source of electricity - biorefinery',\n",
    "    description = \"Switch on the source of electricty used in the biorefinery\",\n",
    "    group = 'waste')\n",
    "\n",
    "# create the virtual activity corresponding to the switch\n",
    "mw_switch_act = alg.newSwitchAct(dbname = USER_DB,\n",
    "                                   name = 'mw_switch_act',\n",
    "                                   paramDef = mw_loc,\n",
    "                                   acts_dict = {'mw_SE': mw_SE,\n",
    "                                                'mw_NO': mw_NO,\n",
    "                                                'mw_FI': mw_FI,\n",
    "                                                'mw_DK': mw_DK,\n",
    "                                                'mw_FR': mw_FR,\n",
    "                                                'mw_DE': mw_DE,\n",
    "                                                'mw_BE': mw_BE,\n",
    "                                                'mw_LU': mw_LU,\n",
    "                                                \n",
    "                                                'mw_NL': mw_NL,\n",
    "                                                'mw_AT': mw_AT,\n",
    "                                                'mw_RER': mw_RER})"
   ]
  },
  {
   "cell_type": "markdown",
   "id": "c5bcd796-46a4-40b4-88e8-1eef5deff2cc",
   "metadata": {},
   "source": [
    "## 4.2. Evaluate the influence of the percentage of losses \n",
    "\n",
    "The float parameter defined corresponds to the percentage of biomass losses in the biorefinery processes. An increase in the percentage of losses means that less of the (co)products are produced but more heat is generated from the combustion of residual biomass."
   ]
  },
  {
   "cell_type": "code",
   "execution_count": null,
   "id": "8e5e1ea9-3ec5-48ba-91d8-3b8fbf58e837",
   "metadata": {},
   "outputs": [],
   "source": [
    "percentage_losses = alg.newFloatParam(name = \"percentage_losses\",\n",
    "                           default = 0, min = 0, max = 1, \n",
    "                           unit = '%',\n",
    "                           group = 'biomass')"
   ]
  },
  {
   "cell_type": "markdown",
   "id": "18be6f68-f712-43fe-be80-26e99db734d8",
   "metadata": {},
   "source": [
    "## 4.3. Evaluate the influence of the integration of the biorefinery with co-located source of energy\n",
    "\n",
    "The boolean parameter defined changes the amount of electricity used in the biorefinery processes. In the integrated biorefinery (standalone = 0), no external electricity is required and all the energy is supplied from the co-located source which comes into the system free of burdens. In the standalone biorefinery (standalone = 1), the electricity required is supplied by the grid. "
   ]
  },
  {
   "cell_type": "code",
   "execution_count": null,
   "id": "3d8e986f-c7f5-46c6-a580-3b4de623d632",
   "metadata": {},
   "outputs": [],
   "source": [
    "standalone = alg.newBoolParam('standalone', \n",
    "                               default = 1, # 1 means the biorefinery system is stand-alone, 0 it is integrated\n",
    "                               group = 'booleans')"
   ]
  },
  {
   "cell_type": "markdown",
   "id": "2a5e5544-ee11-4331-9b02-de870386ca70",
   "metadata": {},
   "source": [
    "# 5. Add the parameters to the foreground activities <a class=\"anchor\" id=\"section5\"></a>\n",
    "\n",
    "## 5.1. Create parameterised heat production processes\n",
    "\n",
    "The amount of electricity and municipal solid wastes are not changed, only the geographical location of the datasets. "
   ]
  },
  {
   "cell_type": "code",
   "execution_count": null,
   "id": "af0b69e0-9ad6-4c11-badd-71f2911781af",
   "metadata": {},
   "outputs": [],
   "source": [
    "heat_CHP_bark.updateExchanges({'electricity*':grid_switch_act})\n",
    "heat_CHP_bark.updateExchanges({'municipal*':mw_switch_act})\n",
    "\n",
    "heat_CHP_woodchips.updateExchanges({'electricity*':grid_switch_act})\n",
    "heat_CHP_woodchips.updateExchanges({'municipal*':mw_switch_act})\n",
    "\n",
    "heat_CHP_RB.updateExchanges({'electricity*':grid_switch_act})\n",
    "heat_CHP_RB.updateExchanges({'municipal*':mw_switch_act})"
   ]
  },
  {
   "cell_type": "markdown",
   "id": "800a49fc-57d9-4a21-bfa8-78c798431f3b",
   "metadata": {},
   "source": [
    "## 5.2. Create parameterised biorefinery processes\n",
    "\n",
    "All the activities are scaled to the functional unit i.e. the processing of 1 kg of bark dry mass. "
   ]
  },
  {
   "cell_type": "code",
   "execution_count": null,
   "id": "ed4883f7-2383-4af0-8982-84be3c2bc126",
   "metadata": {},
   "outputs": [],
   "source": [
    "# lipophilic extraction from bark\n",
    "lipophilic_extraction = alg.newActivity(db_name = USER_DB, \n",
    "         name = 'lipophilic extraction',\n",
    "         unit = 'unit',\n",
    "         exchanges={\n",
    "             # technosphere inputs\n",
    "             ethylacetate: 0.002,\n",
    "             grid_SE: 2.44*standalone,\n",
    "             # emissions\n",
    "             ethylacetateemission: 0.002\n",
    "         })\n",
    "\n",
    "lipophilic_extraction.updateExchanges({'electricity*':grid_switch_act})\n",
    "#alg.printAct(lipophilic_extraction).to_excel(str(result_dir+'/lipophilic_extraction_'+ei+'.xlsx'))\n",
    "alg.printAct(lipophilic_extraction)"
   ]
  },
  {
   "cell_type": "code",
   "execution_count": null,
   "id": "7131b4bc-75f4-4a98-b8df-d3cd8b565c1c",
   "metadata": {},
   "outputs": [],
   "source": [
    "# sugar extraction from lipophilic depleted bark\n",
    "sugar_extraction = alg.newActivity(db_name = USER_DB, \n",
    " name = 'sugar extraction',\n",
    " unit = 'unit',\n",
    " exchanges={\n",
    "     grid_SE: 5*standalone,\n",
    "     wwt: -0.00007,\n",
    "     # natural resources\n",
    "     water: 0.00007\n",
    " })\n",
    "\n",
    "sugar_extraction.updateExchanges({'electricity*':grid_switch_act})\n",
    "#alg.printAct(sugar_extraction).to_excel(str(result_dir+'/sugar_extraction_'+ei+'.xlsx'))\n",
    "alg.printAct(sugar_extraction)"
   ]
  },
  {
   "cell_type": "code",
   "execution_count": null,
   "id": "9aa0c962-8f9c-4378-9b32-b6f26d429f4f",
   "metadata": {},
   "outputs": [],
   "source": [
    "sugar_extraction_withlosses = alg.newActivity(db_name = USER_DB,\n",
    "                                     name = 'sugar_extraction_withlosses',\n",
    "                                     unit = 'unit',\n",
    "                                     exchanges={sugar_extraction:1 # - percentage_losses\n",
    "                                    })"
   ]
  },
  {
   "cell_type": "code",
   "execution_count": null,
   "id": "cf5b81d0-4b1e-4b1f-91cb-96e2890bbca7",
   "metadata": {},
   "outputs": [],
   "source": [
    "# pulping of sugar depleted bark\n",
    "pulping = alg.newActivity(db_name = USER_DB, \n",
    " name = 'pulping',\n",
    " unit = 'unit',\n",
    " exchanges={\n",
    "     sodiumhydroxide: 0.00523,\n",
    "     quicklime: 0.00629, # calcium oxide\n",
    "     wwt: -0.00035,\n",
    "     grid_SE: 1.03*standalone,\n",
    "     heatwoodchips:0.35,\n",
    "     CO2: 0.124*standalone,\n",
    "     limestone:-0.00551,\n",
    "     # natural resources\n",
    "     water: 0.00035\n",
    " })\n",
    "\n",
    "pulping.updateExchanges({'electricity*':grid_switch_act})\n",
    "#alg.printAct(pulping).to_excel(str(result_dir+'/pulping_'+ei+'.xlsx'))\n",
    "alg.printAct(pulping)"
   ]
  },
  {
   "cell_type": "code",
   "execution_count": null,
   "id": "a12044e0-64cc-46a4-8e5b-043bf35cf96d",
   "metadata": {},
   "outputs": [],
   "source": [
    "pulping_withlosses = alg.newActivity(db_name = USER_DB,\n",
    "                                     name = 'pulping_withlosses',\n",
    "                                     unit = 'unit',\n",
    "                                     exchanges={pulping:1 #- percentage_losses\n",
    "                                               })"
   ]
  },
  {
   "cell_type": "code",
   "execution_count": null,
   "id": "0208a870-f686-4a16-a5cc-fe7d3fd9de03",
   "metadata": {},
   "outputs": [],
   "source": [
    "# production of heat from residual biomass via cogeneration\n",
    "heat_residues = alg.newActivity(db_name = USER_DB, \n",
    " name = 'heat (RB)',\n",
    " unit = 'unit',\n",
    " exchanges={\n",
    "     heat_CHP_RB: 1.53*(1+percentage_losses)\n",
    " })\n",
    "alg.printAct(heat_residues)"
   ]
  },
  {
   "cell_type": "code",
   "execution_count": null,
   "id": "51130983-f4bd-4355-9216-4e9d243a5ddd",
   "metadata": {},
   "outputs": [],
   "source": [
    "# conversion of lipophilic extractives into tall oil (no impacts assumed)\n",
    "processA = alg.newActivity(db_name = USER_DB, \n",
    " name = 'process A',\n",
    " unit = 'unit',\n",
    " exchanges={\n",
    " })"
   ]
  },
  {
   "cell_type": "code",
   "execution_count": null,
   "id": "399aa1a9-aec8-4260-9050-1d707a7339d8",
   "metadata": {},
   "outputs": [],
   "source": [
    "# conversion of sugar extractives into starch (no impacts assumed)\n",
    "processB = alg.newActivity(db_name = USER_DB, \n",
    " name = 'process B',\n",
    " unit = 'unit',\n",
    " exchanges={\n",
    " })"
   ]
  },
  {
   "cell_type": "code",
   "execution_count": null,
   "id": "375791f7-2eff-4fba-8d95-7a67ded8ec3c",
   "metadata": {},
   "outputs": [],
   "source": [
    "# conversion of lignin into phenol (no impacts assumed)\n",
    "processC = alg.newActivity(db_name = USER_DB, \n",
    " name = 'process C',\n",
    " unit = 'unit',\n",
    " exchanges={\n",
    " })"
   ]
  },
  {
   "cell_type": "markdown",
   "id": "0e26727d-499f-45cd-8d4a-9db0f25625c4",
   "metadata": {},
   "source": [
    "## 5.3. Create parameterised end-of-life processes\n",
    "\n",
    "The end-of-life (EoL) processes were differentiated for each product and application since the lifespan of the products varies (and will therefore influence the calculation of the climate impacts using dynamic chatacterisation factors). All products are considered to be solid wastes treated by incineration at their EoL. The amount of waste treated depends on the percentage of biomass losses in the biorefinery processes. More losses means that less products are generated and therefore less wastes are treated. "
   ]
  },
  {
   "cell_type": "markdown",
   "id": "124942fd-374b-4a0f-96a6-ea9510a200d8",
   "metadata": {},
   "source": [
    "| Product            | Application          | Share   | Lifespan       | Amount   | Unit |\n",
    "|--------------------|----------------------|---------|----------------|----------|------|\n",
    "| Pulp               | Biomedical products | 33.33%  | <1 year        | 0.1367   | kg   |\n",
    "| Pulp               | Textiles            | 33.33%  | 5 years        | 0.1367   | kg   |\n",
    "| Pulp               | Nanocomposites      | 33.33%  | 20 years       | 0.1367   | kg   |\n",
    "| Phenol             | Automotive          | 40%     | 13 years       | 0.068    | kg   |\n",
    "| Phenol             | Construction        | 23%     | 50 years       | 0.0391   | kg   |\n",
    "| Phenol             | Furniture           | 18%     | 15 years       | 0.0306   | kg   |\n",
    "| Phenol             | Electronics         | 14%     | 7 years        | 0.0238   | kg   |\n",
    "| Phenol             | Others              | 5%      | 21.25 years    | 0.0085   | kg   |\n",
    "| Starch             | Cardboard boxes     | 100%    | 1 year         | 0.22     | kg   |\n",
    "| Tall oil           | Biofuel             | 100%    | <1 year        | 0.02     | kg   |\n",
    "| Residual biomass   | Heat production     | 100%    | <1 year        | 1.52915  | MJ   |\n"
   ]
  },
  {
   "cell_type": "code",
   "execution_count": null,
   "id": "2d51567d-8ea4-4db9-a96a-c20d0b0b11d0",
   "metadata": {},
   "outputs": [],
   "source": [
    "# treatment of the biorefinery products at their EoL (aggregated value)\n",
    "# amount corresponds to the mass of the biorefinery products excluding the residues (which are combusted for heat production)\n",
    "EoL = alg.newActivity(db_name = USER_DB, \n",
    " name = 'EoL',\n",
    " unit = 'unit',\n",
    " exchanges={\n",
    "     #mw_RER: -(0.82*(1-percentage_losses))\n",
    "     mw_RER: -(1-0.18*(1+percentage_losses))\n",
    " })\n",
    "EoL.updateExchanges({'municipal*':mw_switch_act})\n",
    "#alg.printAct(EoL).to_excel(str(result_dir+'/EoL_'+ei+'.xlsx'))\n",
    "alg.printAct(EoL)"
   ]
  },
  {
   "cell_type": "code",
   "execution_count": null,
   "id": "78fa3c66-6be6-4871-bf19-1ccbade7b4c6",
   "metadata": {},
   "outputs": [],
   "source": [
    "# treatment of the pulp for biomedical application\n",
    "EoL_pulp_biomed = alg.newActivity(db_name = USER_DB,\n",
    "                                  name = 'EoL_pulp_biomed',\n",
    "                                  unit = 'unit',\n",
    "                                  exchanges={\n",
    "                                      #mw_RER: -(0.3333*0.41*(1-percentage_losses))\n",
    "                                      mw_RER: -(0.3333*(0.41/0.82)*(1-0.18*(1+percentage_losses)))\n",
    "                                  })\n",
    "EoL_pulp_biomed.updateExchanges({'municipal*':mw_switch_act})\n",
    "#alg.printAct(EoL_pulp_biomed).to_excel(str(result_dir+'/EoL_pulp_biomed_'+ei+'.xlsx'))\n",
    "alg.printAct(EoL_pulp_biomed)"
   ]
  },
  {
   "cell_type": "code",
   "execution_count": null,
   "id": "a1067a33-8095-4b7d-9b68-345d4ca56ce3",
   "metadata": {},
   "outputs": [],
   "source": [
    "# treatment of the pulp for textile application\n",
    "EoL_pulp_textile = alg.newActivity(db_name = USER_DB,\n",
    "                                  name = 'EoL_pulp_textile',\n",
    "                                  unit = 'unit',\n",
    "                                  exchanges={\n",
    "                                      #mw_RER: -(0.3333*0.41*(1-percentage_losses))\n",
    "                                      mw_RER: -(0.3333*(0.41/0.82)*(1-0.18*(1+percentage_losses)))\n",
    "                                  })\n",
    "EoL_pulp_textile.updateExchanges({'municipal*':mw_switch_act})\n",
    "#alg.printAct(EoL_pulp_textile).to_excel(str(result_dir+'/EoL_pulp_textile_'+ei+'.xlsx'))\n",
    "alg.printAct(EoL_pulp_textile)"
   ]
  },
  {
   "cell_type": "code",
   "execution_count": null,
   "id": "9e8cfd96-8a23-48d3-bfcb-cab562f26dde",
   "metadata": {},
   "outputs": [],
   "source": [
    "# treatment of the pulp for nanocomposite application\n",
    "EoL_pulp_nanocomposite = alg.newActivity(db_name = USER_DB,\n",
    "                                  name = 'EoL_pulp_nanocomposite',\n",
    "                                  unit = 'unit',\n",
    "                                  exchanges={\n",
    "                                      #mw_RER: -(0.3333*0.41*(1-percentage_losses))\n",
    "                                      mw_RER: -(0.3333*(0.41/0.82)*(1-0.18*(1+percentage_losses)))\n",
    "                                  })\n",
    "EoL_pulp_nanocomposite.updateExchanges({'municipal*':mw_switch_act})\n",
    "#alg.printAct(EoL_pulp_nanocomposite).to_excel(str(result_dir+'/EoL_pulp_nanocomposite_'+ei+'.xlsx'))\n",
    "alg.printAct(EoL_pulp_nanocomposite)"
   ]
  },
  {
   "cell_type": "code",
   "execution_count": null,
   "id": "18515a29-88f5-4699-b1a9-179ee4ec29d0",
   "metadata": {},
   "outputs": [],
   "source": [
    "# treatment of the phenol for automotive application\n",
    "EoL_phenol_auto = alg.newActivity(db_name = USER_DB,\n",
    "                                  name = 'EoL_phenol_auto',\n",
    "                                  unit = 'unit',\n",
    "                                  exchanges={\n",
    "                                      #mw_RER: -(0.4*0.17*(1-percentage_losses))\n",
    "                                      mw_RER: -(0.4*(0.17/0.82)*(1-0.18*(1+percentage_losses)))\n",
    "                                  })\n",
    "EoL_phenol_auto.updateExchanges({'municipal*':mw_switch_act})\n",
    "#alg.printAct(EoL_phenol_auto).to_excel(str(result_dir+'/EoL_phenol_auto_'+ei+'.xlsx'))\n",
    "alg.printAct(EoL_phenol_auto)"
   ]
  },
  {
   "cell_type": "code",
   "execution_count": null,
   "id": "82956a3d-57bb-4cab-8eb1-bf2f06099291",
   "metadata": {},
   "outputs": [],
   "source": [
    "# treatment of the phenol for construction application\n",
    "EoL_phenol_construction = alg.newActivity(db_name = USER_DB,\n",
    "                                  name = 'EoL_phenol_construction',\n",
    "                                  unit = 'unit',\n",
    "                                  exchanges={\n",
    "                                      #mw_RER: -(0.23*0.17*(1-percentage_losses))\n",
    "                                      mw_RER: -(0.23*(0.17/0.82)*(1-0.18*(1+percentage_losses)))\n",
    "                                  })\n",
    "EoL_phenol_construction.updateExchanges({'municipal*':mw_switch_act})\n",
    "#alg.printAct(EoL_phenol_construction).to_excel(str(result_dir+'/EoL_phenol_construction_'+ei+'.xlsx'))\n",
    "alg.printAct(EoL_phenol_construction)"
   ]
  },
  {
   "cell_type": "code",
   "execution_count": null,
   "id": "fb3c4f64-9c76-454c-b7a7-90e7cb5007ab",
   "metadata": {},
   "outputs": [],
   "source": [
    "# treatment of the phenol for furniture application\n",
    "EoL_phenol_furniture = alg.newActivity(db_name = USER_DB,\n",
    "                                  name = 'EoL_phenol_furniture',\n",
    "                                  unit = 'unit',\n",
    "                                  exchanges={\n",
    "                                      #mw_RER: -(0.18*0.17*(1-percentage_losses))\n",
    "                                      mw_RER: -(0.18*(0.17/0.82)*(1-0.18*(1+percentage_losses)))\n",
    "                                  })\n",
    "EoL_phenol_furniture.updateExchanges({'municipal*':mw_switch_act})\n",
    "#alg.printAct(EoL_phenol_furniture).to_excel(str(result_dir+'/EoL_phenol_furniture_'+ei+'.xlsx'))\n",
    "alg.printAct(EoL_phenol_furniture)"
   ]
  },
  {
   "cell_type": "code",
   "execution_count": null,
   "id": "9d772f0c-a0a3-4897-82e5-ebcd15194832",
   "metadata": {},
   "outputs": [],
   "source": [
    "# treatment of the phenol for electronics application\n",
    "EoL_phenol_electronics = alg.newActivity(db_name = USER_DB,\n",
    "                                  name = 'EoL_phenol_electronics',\n",
    "                                  unit = 'unit',\n",
    "                                  exchanges={\n",
    "                                      #mw_RER: -(0.14*0.17*(1-percentage_losses))\n",
    "                                      mw_RER: -(0.14*(0.17/0.82)*(1-0.18*(1+percentage_losses)))\n",
    "                                  })\n",
    "EoL_phenol_electronics.updateExchanges({'municipal*':mw_switch_act})\n",
    "#alg.printAct(EoL_phenol_electronics).to_excel(str(result_dir+'/EoL_phenol_electronics_'+ei+'.xlsx'))\n",
    "alg.printAct(EoL_phenol_electronics)"
   ]
  },
  {
   "cell_type": "code",
   "execution_count": null,
   "id": "a5a95316-e01f-4350-9737-c31533ccc3b0",
   "metadata": {},
   "outputs": [],
   "source": [
    "# treatment of the phenol for other applications\n",
    "EoL_phenol_others = alg.newActivity(db_name = USER_DB,\n",
    "                                  name = 'EoL_phenol_others',\n",
    "                                  unit = 'unit',\n",
    "                                  exchanges={\n",
    "                                      #mw_RER: -(0.05*0.17*(1-percentage_losses))\n",
    "                                      mw_RER: -(0.05*(0.17/0.82)*(1-0.18*(1+percentage_losses)))\n",
    "                                  })\n",
    "EoL_phenol_others.updateExchanges({'municipal*':mw_switch_act})\n",
    "#alg.printAct(EoL_phenol_others).to_excel(str(result_dir+'/EoL_phenol_others_'+ei+'.xlsx'))\n",
    "alg.printAct(EoL_phenol_others)"
   ]
  },
  {
   "cell_type": "code",
   "execution_count": null,
   "id": "8de86901-76a3-4405-9498-ddf8bcf9be38",
   "metadata": {},
   "outputs": [],
   "source": [
    "# treatment of the phenol for other applications\n",
    "EoL_starch_cardboard = alg.newActivity(db_name = USER_DB,\n",
    "                                  name = 'EoL_starch_cardboard',\n",
    "                                  unit = 'unit',\n",
    "                                  exchanges={\n",
    "                                      #mw_RER: -(0.22*(1-percentage_losses))\n",
    "                                      mw_RER: -((0.22/0.82)*(1-0.18*(1+percentage_losses)))\n",
    "                                  })\n",
    "EoL_starch_cardboard.updateExchanges({'municipal*':mw_switch_act})\n",
    "#alg.printAct(EoL_starch_cardboard).to_excel(str(result_dir+'/EoL_starch_cardboard_'+ei+'.xlsx'))\n",
    "alg.printAct(EoL_starch_cardboard)"
   ]
  },
  {
   "cell_type": "code",
   "execution_count": null,
   "id": "810e34b7-6807-45ee-8bac-cd469d7dac51",
   "metadata": {},
   "outputs": [],
   "source": [
    "# treatment of the phenol for other applications\n",
    "EoL_talloil_biofuel = alg.newActivity(db_name = USER_DB,\n",
    "                                  name = 'EoL_talloil_biofuel',\n",
    "                                  unit = 'unit',\n",
    "                                  exchanges={\n",
    "                                      #mw_RER: -(0.02*(1-percentage_losses))\n",
    "                                      mw_RER: -((0.02/0.82)*(1-0.18*(1+percentage_losses)))\n",
    "                                  })\n",
    "EoL_talloil_biofuel.updateExchanges({'municipal*':mw_switch_act})\n",
    "#alg.printAct(EoL_talloil_biofuel).to_excel(str(result_dir+'/EoL_talloil_biofuel_'+ei+'.xlsx'))\n",
    "alg.printAct(EoL_talloil_biofuel)"
   ]
  },
  {
   "cell_type": "markdown",
   "id": "3c0dd1a6-56f4-44df-b99d-8d0d667368fd",
   "metadata": {},
   "source": [
    "## 5.4. Create parameterised substituted processes"
   ]
  },
  {
   "cell_type": "code",
   "execution_count": null,
   "id": "c43a0145-89b7-427c-83a7-81a0e24fd6cb",
   "metadata": {},
   "outputs": [],
   "source": [
    "# substitution of tall oil from pine wood (1:1)\n",
    "talloil_sub = alg.newActivity(db_name = USER_DB,\n",
    "                             name = 'tall oil (sub.)',\n",
    "                             unit = 'unit',\n",
    "                             exchanges = {talloil: - ((0.02/0.82)*(1-0.18*(1+percentage_losses)))})\n",
    "alg.printAct(talloil_sub)"
   ]
  },
  {
   "cell_type": "code",
   "execution_count": null,
   "id": "f803fc3d-f8b7-4a57-8619-f70ebeebf61f",
   "metadata": {},
   "outputs": [],
   "source": [
    "# substitution of starch from potato (1:1)\n",
    "starch_sub = alg.newActivity(db_name = USER_DB,\n",
    "                          name = 'starch (sub.)',\n",
    "                          unit = 'unit',\n",
    "                          exchanges = {potatostarch: -((0.22/0.82)*(1-0.18*(1+percentage_losses)))})\n",
    "alg.printAct(starch_sub)"
   ]
  },
  {
   "cell_type": "code",
   "execution_count": null,
   "id": "2e0f7092-6ef1-49bf-a7e1-d148129bb92a",
   "metadata": {},
   "outputs": [],
   "source": [
    "# substitution of phenol from cumene (1:1)\n",
    "phenol_sub = alg.newActivity(db_name = USER_DB,\n",
    "                            name = 'phenol (sub.)',\n",
    "                            unit = 'unit',\n",
    "                            exchanges = {phenol: -((0.17/0.82)*(1-0.18*(1+percentage_losses)))})\n",
    "alg.printAct(phenol_sub)"
   ]
  },
  {
   "cell_type": "code",
   "execution_count": null,
   "id": "aad78c91-f087-41d4-87e4-606244fd24a6",
   "metadata": {},
   "outputs": [],
   "source": [
    "# substitution of sulfate pulp (1:1)\n",
    "pulp_sub = alg.newActivity(db_name = USER_DB,\n",
    "                            name = 'pulp (sub.)',\n",
    "                            unit = 'unit',\n",
    "                            exchanges = {pulp: -((0.41/0.82)*(1-0.18*(1+percentage_losses)))})\n",
    "alg.printAct(pulp_sub)"
   ]
  },
  {
   "cell_type": "code",
   "execution_count": null,
   "id": "bda8e9bb-f7a1-48f3-aabd-1dec9c9814bd",
   "metadata": {},
   "outputs": [],
   "source": [
    "# environmental impacts from the production of marginal heat in the biorefinery scenarios (e.g., heat that would have been produced by directly burning the bark)\n",
    "# amount corresponds to the total amount of heat produced when burning bark (8.5 MJ) minus the heat produced from the residues\n",
    "heat_burdens = alg.newActivity(db_name = USER_DB, \n",
    " name = 'heat (burd.)',\n",
    " unit = 'unit',\n",
    " exchanges={\n",
    "     heat_CHP_woodchips: 8.5 -(1.53*(1+percentage_losses))\n",
    " })\n",
    "alg.printAct(heat_burdens)"
   ]
  },
  {
   "cell_type": "markdown",
   "id": "d83be9d2-785f-4e24-b22a-ef8f1a0c58b1",
   "metadata": {},
   "source": [
    "## 5.5. Scaled process for combustion scenario"
   ]
  },
  {
   "cell_type": "code",
   "execution_count": null,
   "id": "73aea18b-8714-40b1-a708-d27f3eff8533",
   "metadata": {},
   "outputs": [],
   "source": [
    "heat_CHP_bark_scaled = alg.newActivity(db_name = USER_DB,\n",
    "                                     name = 'heat CHP bark',\n",
    "                                     unit = 'unit',\n",
    "                                     exchanges={heat_CHP_bark:8.5})"
   ]
  },
  {
   "cell_type": "markdown",
   "id": "fb8c8609-c99a-4a0f-aadb-3fac2641baef",
   "metadata": {},
   "source": [
    "# 6. Calculate the static climate impacts using IPCC 2021 GWP100"
   ]
  },
  {
   "cell_type": "markdown",
   "id": "2dadb16a-bb7e-4a45-b4bf-c58ff288e27a",
   "metadata": {},
   "source": [
    "## 6.1. Static climate impacts from indirect GHG emissions"
   ]
  },
  {
   "cell_type": "code",
   "execution_count": null,
   "id": "46368210-1c3b-459a-8ba6-bf13a5447c1f",
   "metadata": {},
   "outputs": [],
   "source": [
    "# static climate impacts (indirect emissions only) for the stand-alone biorefinery scenario\n",
    "df_bioref_standalone = alg.compute_impacts([lipophilic_extraction, \n",
    "                                            sugar_extraction_withlosses, \n",
    "                                            pulping_withlosses, \n",
    "                                            heat_burdens, \n",
    "                                            #processA, \n",
    "                                            #processB, \n",
    "                                            #processC, \n",
    "                                            heat_residues, \n",
    "                                            # EoL\n",
    "                                            EoL_pulp_biomed,\n",
    "                                            EoL_pulp_textile, \n",
    "                                            EoL_pulp_nanocomposite,\n",
    "                                            EoL_phenol_auto, \n",
    "                                            EoL_phenol_construction, \n",
    "                                            EoL_phenol_furniture, \n",
    "                                            EoL_phenol_electronics, \n",
    "                                            EoL_phenol_others, \n",
    "                                            EoL_starch_cardboard, \n",
    "                                            EoL_talloil_biofuel,                                   \n",
    "                                            # substitution\n",
    "                                            talloil_sub,\n",
    "                                            starch_sub,\n",
    "                                            phenol_sub, \n",
    "                                            pulp_sub],\n",
    "                                            # lcia method\n",
    "                                            [ipcc2021],\n",
    "                                            # parameters\n",
    "                                            standalone = 1,\n",
    "                                            percentage_losses = 0,\n",
    "                                            grid_loc = 'grid_SE',\n",
    "                                            mw_loc = 'mw_RER'\n",
    "                                          )\n",
    "#df_bioref_standalone.to_excel(str(result_dir+\"/climate_impacts_IPCC2021_static_standalone_bioref_\" + str(ei)+ \".xlsx\"))"
   ]
  },
  {
   "cell_type": "code",
   "execution_count": null,
   "id": "8ea99afe-2f7e-452a-9709-f4d87d4a5430",
   "metadata": {},
   "outputs": [],
   "source": [
    "# static climate impacts (indirect emissions only) for the integrated biorefinery scenario\n",
    "df_bioref_integrated = alg.compute_impacts([lipophilic_extraction, \n",
    "                                            sugar_extraction_withlosses, \n",
    "                                            pulping_withlosses, \n",
    "                                            heat_burdens, \n",
    "                                            #processA, \n",
    "                                            #processB, \n",
    "                                            #processC, \n",
    "                                            heat_residues, \n",
    "                                            # EoL\n",
    "                                            EoL_pulp_biomed,\n",
    "                                            EoL_pulp_textile, \n",
    "                                            EoL_pulp_nanocomposite,\n",
    "                                            EoL_phenol_auto, \n",
    "                                            EoL_phenol_construction, \n",
    "                                            EoL_phenol_furniture, \n",
    "                                            EoL_phenol_electronics, \n",
    "                                            EoL_phenol_others, \n",
    "                                            EoL_starch_cardboard, \n",
    "                                            EoL_talloil_biofuel,                                   \n",
    "                                            # substitution\n",
    "                                            talloil_sub,\n",
    "                                            starch_sub,\n",
    "                                            phenol_sub, \n",
    "                                            pulp_sub],\n",
    "                                            # lcia method\n",
    "                                            [ipcc2021],\n",
    "                                            # parameters\n",
    "                                            standalone = 0,\n",
    "                                            percentage_losses = 0,\n",
    "                                            grid_loc = 'grid_SE',\n",
    "                                            mw_loc = 'mw_RER'\n",
    "                                          )\n",
    "#df_bioref_integrated.to_excel(str(result_dir+\"/climate_impacts_IPCC2021_static_integrated_bioref_\" + str(ei)+ \".xlsx\"))"
   ]
  },
  {
   "cell_type": "code",
   "execution_count": null,
   "id": "f8d442bc-874a-45c6-a474-28f541905aeb",
   "metadata": {},
   "outputs": [],
   "source": [
    "# static climate impacts (indirect emissions only) for the combustion scenario\n",
    "df_combustion = alg.compute_impacts([heat_CHP_bark_scaled],\n",
    "                            [ipcc2021],\n",
    "                            # parameters\n",
    "                            percentage_losses = 0,\n",
    "                            grid_loc = 'grid_SE',\n",
    "                            mw_loc = 'mw_RER'\n",
    "                            )\n",
    "#df_combustion.to_excel(str(result_dir+\"/climate_impacts_IPCC2021_static_combustion_\" + str(ei)+ \".xlsx\"))"
   ]
  },
  {
   "cell_type": "code",
   "execution_count": null,
   "id": "8357a685-d2f2-4a40-9fa5-d34cec9401f8",
   "metadata": {},
   "outputs": [],
   "source": [
    "# merge the three dataframes\n",
    "merged_df = pd.concat([df_bioref_standalone, df_bioref_integrated, df_combustion], axis = 1)\n",
    "# change the name of the columns\n",
    "merged_df.columns = ['Stand-alone biorefinery', 'Integrated biorefinery', 'Combustion']\n",
    "merged_df"
   ]
  },
  {
   "cell_type": "markdown",
   "id": "dba43997-0b37-40b6-bd4f-b1bb7eb73d1f",
   "metadata": {},
   "source": [
    "When using the ecoinvent consequential v.9 database, the values above match the ones in the excel file sheet \"GWP100AB_ei39\" in which the values were calcualted using the Activity Browser and the IPCC2021 GWP100. The values are also almost similar to the the total GWP100 values calculated in the spreadhseet \"GWP100total_ei39\" even if the later includes CO2, CH4, and N2O emissions only (while the table above includes all GHGs). "
   ]
  },
  {
   "cell_type": "markdown",
   "id": "d39e8062-bb5a-4fcf-94a8-94ae2130b0ba",
   "metadata": {},
   "source": [
    "## 6.2. Static climate impacts from direct CO2 emissions\n",
    "\n",
    "The calculation of the direct CO2-eq emissions is based on the carbon balance of the biorefinery (see Supplementary Material 1). Carbon capture is excluded here since the LCA study is limited to gate-to-gate system boundaries (see main manuscript). "
   ]
  },
  {
   "cell_type": "code",
   "execution_count": null,
   "id": "648ffe63-a546-4ade-b01e-4fd1366de307",
   "metadata": {
    "scrolled": true
   },
   "outputs": [],
   "source": [
    "carbon_content_df = pd.read_excel(str(str(wdir) + '/carbon_content.xlsx'), index_col=0)\n",
    "carbon_content_df"
   ]
  },
  {
   "cell_type": "code",
   "execution_count": null,
   "id": "76c1e0f7-a4bb-464e-8a0b-9147d35c3d95",
   "metadata": {},
   "outputs": [],
   "source": [
    "CO2_emissions_df = carbon_content_df.copy()\n",
    "CO2_emissions_df['Stand-alone biorefinery'] = CO2_emissions_df['Stand-alone biorefinery']/1000*3.67\n",
    "CO2_emissions_df['Integrated biorefinery'] = CO2_emissions_df['Integrated biorefinery']/1000*3.67\n",
    "CO2_emissions_df['Combustion'] = CO2_emissions_df['Combustion']/1000*3.67\n",
    "CO2_emissions_df = CO2_emissions_df.drop(['Year'], axis=1)\n",
    "CO2_emissions_df.loc['Total']= CO2_emissions_df.sum()\n",
    "CO2_emissions_df"
   ]
  },
  {
   "cell_type": "markdown",
   "id": "1fa6d92f-9992-48b9-b57e-2a7162b28a6f",
   "metadata": {},
   "source": [
    "## 6.3. Total static climate impacts"
   ]
  },
  {
   "cell_type": "code",
   "execution_count": null,
   "id": "ae202193-a666-40b8-8be4-87b62215e685",
   "metadata": {},
   "outputs": [],
   "source": [
    "total_df = merged_df.copy() \n",
    "total_df.loc['EoL']= total_df.iloc[5:15].sum()\n",
    "total_df_vf = total_df.drop(total_df.index[5:15])\n",
    "\n",
    "row_to_move1 = total_df_vf.iloc[[10]]\n",
    "total_df_vf = total_df_vf.drop(['EoL'])\n",
    "total_df_vf = pd.concat([total_df_vf.iloc[:5], row_to_move1, total_df_vf.iloc[5:]])\n",
    "\n",
    "row_to_move2 = total_df_vf.iloc[[4]]\n",
    "total_df_vf = total_df_vf.drop(['heat (RB)'])\n",
    "total_df_vf = pd.concat([total_df_vf.iloc[:3], row_to_move2, total_df_vf.iloc[3:]])\n",
    "\n",
    "## add a row from the direct CO2 emissions (biogenic)\n",
    "total_df_vf.loc['direct CO2'] = CO2_emissions_df.loc['Total']\n",
    "\n",
    "#change index labels\n",
    "index_labels = ['lipophilic extraction', 'sugar extraction', 'pulping', 'heat (RB)', 'heat (burd.)','EoL', \n",
    "                'tall oil (sub.)', 'starch (sub.)', 'phenol (sub.)', 'pulp (sub.)', 'heat CHP bark', 'biogenic CO2']\n",
    "total_df_vf.index = index_labels\n",
    "total_df_vf.rename(columns={'Stand-alone biorefinery': 'Stand-alone\\nbiorefinery', 'Integrated biorefinery': 'Integrated\\nbiorefinery'}, inplace=True)\n",
    "#total_df_vf.loc['Total']= total_df_vf.sum()\n",
    "total_df_vf.to_excel(str(result_dir+'/total_static_climate_impacts_IPCC' + ei +'.xlsx')) \n",
    "total_df_vf"
   ]
  },
  {
   "cell_type": "code",
   "execution_count": null,
   "id": "0642d2fc-4bf7-4be4-b148-d13a6dbe492b",
   "metadata": {},
   "outputs": [],
   "source": [
    "# color palette from: https://davidmathlogic.com/colorblind/#%23332288-%23117733-%2344AA99-%2388CCEE-%23DDCC77-%23CC6677-%23AA4499-%23882255\n",
    "colors = ['#DDCC77', # LE yellow\n",
    "          '#88CCEE', # SE sky blue\n",
    "          '#332288', # P dark blue\n",
    "          '#fff0db', # heat (RB) beige\n",
    "          'black', # heat burd. black\n",
    "          '#882255',# EoL red wine\n",
    "          '#D3D3D3', #tall oil sub.light grey\n",
    "          '#44AA99', # starch sub. teal\n",
    "          '#117733', # phenol sub. dark green \n",
    "          '#AA4499', # pulp sub.plum pink\n",
    "          'grey', # heat CHP bark dark grey\n",
    "          '#CC6677', # biogenic CO2 orange pink          \n",
    "]"
   ]
  },
  {
   "cell_type": "code",
   "execution_count": null,
   "id": "d48f6ea5-2425-4614-86fe-fe92b5e41665",
   "metadata": {},
   "outputs": [],
   "source": [
    "# GWP scores with substitution\n",
    "GWP_scores_ei39 = list(total_df_vf.sum())\n",
    "GWP_scores_ei39 = ['%.2f' % elem for elem in GWP_scores_ei39]\n",
    "GWP_scores_ei39 = [float(elem) for elem in GWP_scores_ei39] # the list items must be floats\n",
    "GWP_scores_ei39\n",
    "\n",
    "# GWP scores without substitution\n",
    "df_wo_subst_ei39 = total_df_vf.drop(['heat (burd.)', 'tall oil (sub.)', 'starch (sub.)', 'phenol (sub.)', 'pulp (sub.)'])\n",
    "GWP_scores_wo_subst_ei39 = list(df_wo_subst_ei39.sum())\n",
    "GWP_scores_wo_subst_ei39 = ['%.2f' % elem for elem in GWP_scores_wo_subst_ei39]\n",
    "GWP_scores_wo_subst_ei39 = [float(elem) for elem in GWP_scores_wo_subst_ei39] # the list items must be floats\n",
    "GWP_scores_wo_subst_ei39\n",
    "\n",
    "# transpose the dataframe\n",
    "df_transposed = total_df_vf.T\n",
    "\n",
    "fig, ax = plt.subplots(figsize=(7, 7))\n",
    "\n",
    "ax.set_ylim(-0.7,4.0)\n",
    "\n",
    "col_names = ['Stand-alone\\nbiorefinery', 'Integrated\\nbiorefinery', 'Combustion']\n",
    "\n",
    "bars = df_transposed.plot(kind='bar', stacked=True, ax=ax, color=colors,legend = False, width=0.5)\n",
    "ax.set_ylabel('Static climate impacts (kg CO2-eq/FU)', fontsize=14)\n",
    "#ax.legend(loc='lower center', bbox_to_anchor=(0.65, 0.7), title_fontsize='12', fontsize='14', ncol=2, frameon = False)\n",
    "\n",
    "ax.tick_params(axis='x', labelsize=14, rotation=0)\n",
    "ax.tick_params(axis='y', labelsize=14)\n",
    "ax.tick_params(axis='x', which='both', bottom=False)  # Remove x-axis ticks\n",
    "\n",
    "ax.axhline(y=0, color='black', linestyle='-', linewidth=0.5)\n",
    "\n",
    "ax.spines['top'].set_visible(False)\n",
    "ax.spines['right'].set_visible(False)\n",
    "ax.spines['bottom'].set_visible(False)\n",
    "\n",
    "# add the single GWP100 scores for each scenario\n",
    "categories_index = np.arange(len(col_names))\n",
    "ax.scatter(categories_index, GWP_scores_wo_subst_ei39, color='black', marker = '^', zorder=5)\n",
    "ax.scatter(categories_index, GWP_scores_ei39, color='black', marker = 'H', zorder=5)\n",
    "\n",
    "for i, val in enumerate(GWP_scores_ei39):\n",
    "    ax.text(categories_index[i], val - 0.12, f'{val}', ha='center', color='black',va = 'top', fontsize=14)\n",
    "\n",
    "for i, val in enumerate(GWP_scores_wo_subst_ei39):\n",
    "    ax.text(categories_index[i], val+0.12, f'{val}', ha='center', color='black',va = 'bottom', fontsize=14)\n",
    "\n",
    "# +/- 0.08\n",
    "\n",
    "plt.tight_layout()\n",
    "\n",
    "#plt.savefig(str(result_dir+'/fig5_DCFs_results_' + ei + '.pdf'), dpi=300)\n",
    "plt.savefig(str(result_dir+'/SM1_static_GWP100_results_'+ei+'.pdf'), dpi=300)\n",
    "\n",
    "plt.show()"
   ]
  },
  {
   "cell_type": "markdown",
   "id": "b0b47658-9055-4688-a6e2-90270769bb02",
   "metadata": {},
   "source": [
    "# 7. Calculate the impacts for other impact categories using ReCiPe"
   ]
  },
  {
   "cell_type": "code",
   "execution_count": null,
   "id": "cf6a0f07-4dee-4367-b239-c2c1491a8c88",
   "metadata": {},
   "outputs": [],
   "source": [
    "recipe_all = alg.findMethods('ReCiPe 2016 v1.03, midpoint (H)')\n",
    "recipe = recipe_all[18:36] # remove all the \"no LT\" impact categories\n",
    "recipe_noGWP = [ic for ic in recipe if 'climate change' not in ic]\n",
    "len(recipe_noGWP)"
   ]
  },
  {
   "cell_type": "code",
   "execution_count": null,
   "id": "cd7fed6a-4b45-4815-b7b5-4e68a4f84ebd",
   "metadata": {},
   "outputs": [],
   "source": [
    "df_bioref_standalone_allICs = alg.compute_impacts([lipophilic_extraction, \n",
    "                                            sugar_extraction_withlosses, \n",
    "                                            pulping_withlosses, \n",
    "                                            heat_burdens, \n",
    "                                            #processA, \n",
    "                                            #processB, \n",
    "                                            #processC, \n",
    "                                            heat_residues, \n",
    "                                            # EoL\n",
    "                                            EoL_pulp_biomed,\n",
    "                                            EoL_pulp_textile, \n",
    "                                            EoL_pulp_nanocomposite,\n",
    "                                            EoL_phenol_auto, \n",
    "                                            EoL_phenol_construction, \n",
    "                                            EoL_phenol_furniture, \n",
    "                                            EoL_phenol_electronics, \n",
    "                                            EoL_phenol_others, \n",
    "                                            EoL_starch_cardboard, \n",
    "                                            EoL_talloil_biofuel,                                   \n",
    "                                            # substitution\n",
    "                                            talloil_sub,\n",
    "                                            starch_sub,\n",
    "                                            phenol_sub, \n",
    "                                            pulp_sub],\n",
    "                                            # lcia method\n",
    "                                            recipe_noGWP,\n",
    "                                            # parameters\n",
    "                                            standalone = 1,\n",
    "                                            percentage_losses = 0,\n",
    "                                            grid_loc = 'grid_SE',\n",
    "                                            mw_loc = 'mw_RER'\n",
    "                                          )\n",
    "#df_bioref_standalone_allICs.to_excel(str(result_dir+\"/all_impacts_recipe_standalone_bioref_\" + str(ei)+ \".xlsx\"))"
   ]
  },
  {
   "cell_type": "code",
   "execution_count": null,
   "id": "5b9c6baf-f9f2-4341-aacb-3b552a96d006",
   "metadata": {},
   "outputs": [],
   "source": [
    "df_bioref_integrated_allICs = alg.compute_impacts([lipophilic_extraction, \n",
    "                                            sugar_extraction_withlosses, \n",
    "                                            pulping_withlosses, \n",
    "                                            heat_burdens, \n",
    "                                            #processA, \n",
    "                                            #processB, \n",
    "                                            #processC, \n",
    "                                            heat_residues, \n",
    "                                            # EoL\n",
    "                                            EoL_pulp_biomed,\n",
    "                                            EoL_pulp_textile, \n",
    "                                            EoL_pulp_nanocomposite,\n",
    "                                            EoL_phenol_auto, \n",
    "                                            EoL_phenol_construction, \n",
    "                                            EoL_phenol_furniture, \n",
    "                                            EoL_phenol_electronics, \n",
    "                                            EoL_phenol_others, \n",
    "                                            EoL_starch_cardboard, \n",
    "                                            EoL_talloil_biofuel,                                   \n",
    "                                            # substitution\n",
    "                                            talloil_sub,\n",
    "                                            starch_sub,\n",
    "                                            phenol_sub, \n",
    "                                            pulp_sub],\n",
    "                                            # lcia method\n",
    "                                            recipe_noGWP,\n",
    "                                            # parameters\n",
    "                                            standalone = 0,\n",
    "                                            percentage_losses = 0,\n",
    "                                            grid_loc = 'grid_SE',\n",
    "                                            mw_loc = 'mw_RER'\n",
    "                                          )\n",
    "#df_bioref_integrated_allICs.to_excel(str(result_dir+\"/all_impacts_recipe_integrated_bioref_\" + str(ei)+ \".xlsx\"))"
   ]
  },
  {
   "cell_type": "code",
   "execution_count": null,
   "id": "db6d7ce0-631f-4762-a4d9-95f74349a85e",
   "metadata": {},
   "outputs": [],
   "source": [
    "df_combustion_allICs = alg.compute_impacts([heat_CHP_bark_scaled],\n",
    "                            recipe_noGWP,\n",
    "                            # parameters\n",
    "                            percentage_losses = 0,\n",
    "                            grid_loc = 'grid_SE',\n",
    "                            mw_loc = 'mw_RER'\n",
    "                            )\n",
    "#df_combustion_allICs.to_excel(str(result_dir+\"/all_impacts_recipe_integrated_combustion_\" + str(ei)+ \".xlsx\"))"
   ]
  },
  {
   "cell_type": "code",
   "execution_count": null,
   "id": "9f3804ce-38c2-42ea-8293-755968152bd9",
   "metadata": {},
   "outputs": [],
   "source": [
    "ic_dict = {\n",
    "    'water consumption potential' : {'name': 'water use - water consumption potential (WCP)[cubic meter]',\n",
    "                                                 'unit': 'm3-Eq',\n",
    "                                                 'abbrev': 'WCP'},\n",
    "    'freshwater ecotoxicity potential' : {'name': 'ecotoxicity: freshwater - freshwater ecotoxicity potential (FETP)[kg 1,4-DCB-Eq]',\n",
    "                                                 'unit': 'kg 1,4-DCB-Eq',\n",
    "                                                 'abbrev': 'FETP'},\n",
    "    'particulate matter formation':  {'name': 'particulate matter formation - particulate matter formation potential (PMFP)[kg PM2.5-Eq]',\n",
    "                                                 'unit': 'kg PM2.5-Eq',\n",
    "                                                 'abbrev': 'PMFP'},\n",
    "    'human toxicity potential, carcinogenics':  {'name': 'human toxicity: carcinogenic - human toxicity potential (HTPc)[kg 1,4-DCB-Eq]',\n",
    "                                                 'unit': 'kg 1,4-DCB-Eq',\n",
    "                                                 'abbrev': 'HTPc'},\n",
    "    'surplus ore potential' : {'name': 'material resources: metals/minerals - surplus ore potential (SOP)[kg Cu-Eq]',\n",
    "                                                 'unit': 'kg Cu-Eq',\n",
    "                                                 'abbrev': 'SOP'},\n",
    "    'ionising radiation potential' : {'name': 'ionising radiation - ionising radiation potential (IRP)[kg Co-60-Eq]',\n",
    "                                                 'unit': 'kg Co-60-Eq',\n",
    "                                                 'abbrev': 'IRP'}\n",
    "    }"
   ]
  },
  {
   "cell_type": "code",
   "execution_count": null,
   "id": "d2e43df6-c7e4-4e22-b2b4-b89f572da667",
   "metadata": {},
   "outputs": [],
   "source": [
    "def plot_ic (ic_name,ax): \n",
    "\n",
    "    # get the data\n",
    "    name = ic_dict[ic_name]['name']\n",
    "    df_ic_col_bioref_standalone = pd.DataFrame({'Stand-alone biorefinery': df_bioref_standalone_allICs[name]})\n",
    "    df_ic_col_bioref_integrated = pd.DataFrame({'Integrated biorefinery': df_bioref_integrated_allICs[name]})\n",
    "    df_ic_col_combustion = pd.DataFrame({'Combustion': df_combustion_allICs[name]})\n",
    "    merged_df_table = pd.concat([df_ic_col_bioref_standalone, df_ic_col_bioref_integrated, df_ic_col_combustion], axis = 1)\n",
    "\n",
    "    # get the total scores\n",
    "    total_scores = list(merged_df_table.sum())\n",
    "    total_scores = ['%.4f' % elem for elem in total_scores]\n",
    "    total_scores = [float(elem) for elem in total_scores] # the list items must be floats\n",
    "\n",
    "    # aggregate the EoL values into a unique row\n",
    "    total_df = merged_df_table.copy()\n",
    "    total_df.loc['EoL']= total_df.iloc[5:15].sum()\n",
    "    total_df_vf = total_df.drop(total_df.index[5:15])\n",
    "\n",
    "    # move the EoL row up\n",
    "    row_to_move = total_df_vf.iloc[[10]]\n",
    "    total_df_vf = total_df_vf.drop(['EoL'])\n",
    "    total_df_vf = pd.concat([total_df_vf.iloc[:5], row_to_move, total_df_vf.iloc[5:]])\n",
    "    \n",
    "    #change index labels\n",
    "    index_labels = ['lipophilic extraction', 'sugar extraction', 'pulping', 'heat (burd.)', 'heat (RB)','EoL', \n",
    "                    'tall oil (sub.)', 'starch (sub.)', 'phenol (sub.)', 'pulp (sub.)', 'heat CHP bark']\n",
    "    \n",
    "    total_df_vf.index = index_labels\n",
    "    total_df_vf.rename(columns={'Stand-alone biorefinery': 'Sta.', 'Integrated biorefinery': 'Int.', 'Combustion':'Comb.'}, inplace=True)\n",
    "\n",
    "    # plot the graph\n",
    "    ic_abbrev = ic_dict[ic_name]['abbrev']\n",
    "    ic_unit = ic_dict[ic_name]['unit']\n",
    "    \n",
    "    df_transposed = total_df_vf.T\n",
    "    \n",
    "    bars = df_transposed.plot(kind='bar', stacked=True, ax=ax, color=colors, legend=False)\n",
    "    ax.set_ylabel(str(ic_abbrev + ' (' +ic_unit+')'), fontsize=10)\n",
    "    # ax.legend(loc='upper center', bbox_to_anchor=(0.5, -0.15), title_fontsize='10', fontsize='10', ncol=4)\n",
    "    \n",
    "    ax.tick_params(axis='x', labelsize=10, rotation=0)\n",
    "    ax.tick_params(axis='y', labelsize=10)\n",
    "    ax.tick_params(axis='x', which='both', bottom=False)  # Remove x-axis ticks\n",
    "    \n",
    "    ax.axhline(y=0, color='black', linestyle='-', linewidth=0.5)\n",
    "    \n",
    "    ax.spines['top'].set_visible(False)\n",
    "    ax.spines['right'].set_visible(False)\n",
    "    ax.spines['bottom'].set_visible(False)\n",
    "    \n",
    "    # add the single GWP100 scores for each scenario\n",
    "    categories_index = np.arange(len(new_names))\n",
    "    ax.scatter(categories_index, total_scores, color='black', marker = 'H', zorder=5)\n",
    "\n",
    "    import matplotlib.ticker as ticker\n",
    "    formatter = ticker.ScalarFormatter(useMathText=True)\n",
    "    formatter.set_powerlimits((-2, 2))\n",
    "    ax.yaxis.set_major_formatter(formatter)\n",
    "    ax.yaxis.get_offset_text().set_position((0.01, 1.02))\n",
    "            \n",
    "    \n",
    "    handles, labels = plt.gca().get_legend_handles_labels()\n",
    "    by_label = dict(zip(labels, handles))\n",
    "\n",
    "    return by_label.values(), by_label.keys()"
   ]
  },
  {
   "cell_type": "code",
   "execution_count": null,
   "id": "e1e6d679-185a-4b50-9d5c-fddcb8096884",
   "metadata": {},
   "outputs": [],
   "source": [
    "import matplotlib.pyplot as plt\n",
    "import matplotlib.gridspec as gridspec\n",
    "\n",
    "fig = plt.figure(constrained_layout=True,figsize = (10,5))\n",
    "\n",
    "ncols = 3\n",
    "nrows = len(ic_dict.keys()) // ncols\n",
    "keys = list(ic_dict.keys())\n",
    "new_names = ['Stand-alone\\nbiorefinery', 'Integrated\\nbiorefinery', 'Combustion']\n",
    "\n",
    "\n",
    "spec = gridspec.GridSpec(ncols=ncols, nrows=nrows, figure=fig,hspace=0.1,wspace=0.1)\n",
    "\n",
    "handles = []\n",
    "labels = []\n",
    "\n",
    "count = 0\n",
    "for i in range(ncols):\n",
    "    for j in range(nrows): # n\n",
    "\n",
    "        ax = fig.add_subplot(spec[j, i])      \n",
    "\n",
    "     \n",
    "        plot_ic (keys[count],ax = ax)\n",
    "\n",
    "        plt.draw()\n",
    "        labels, handles = ax.get_legend_handles_labels()\n",
    "\n",
    "        if count>0:\n",
    "            handles.append(handles)\n",
    "            labels.append(labels)\n",
    "\n",
    "        count+=1\n",
    "leg = fig.legend(labels,handles, loc='lower center',bbox_to_anchor=(0.5, -0.15),ncols = 6,frameon = False)\n",
    "\n",
    "plt.tight_layout()\n",
    "\n",
    "plt.savefig(str(result_dir+'/SM1_lcia_ICs_' + ei + '.pdf'), dpi=300,bbox_extra_artists=[leg,], bbox_inches='tight')\n",
    "\n",
    "plt.show()"
   ]
  },
  {
   "cell_type": "code",
   "execution_count": null,
   "id": "84fd0072-aaf9-456a-8b0e-169ffafc2aa9",
   "metadata": {},
   "outputs": [],
   "source": [
    "df_bioref_standalone_allICs.loc['Total'] = df_bioref_standalone_allICs.sum()\n",
    "df_bioref_integrated_allICs.loc['Total'] = df_bioref_integrated_allICs.sum()\n",
    "df_combustion_allICs.loc['Total'] = df_combustion_allICs.sum()"
   ]
  },
  {
   "cell_type": "code",
   "execution_count": null,
   "id": "4dce0ede-e025-4750-b59c-51b128c1388d",
   "metadata": {},
   "outputs": [],
   "source": [
    "new_df = pd.DataFrame(columns=list(df_bioref_standalone_allICs.columns))\n",
    "new_df.loc['Stand-alone\\nbiorefinery']=df_bioref_standalone_allICs.loc['Total']\n",
    "new_df.loc['Integrated\\nbiorefinery']=df_bioref_integrated_allICs.loc['Total']\n",
    "new_df.loc['Combustion']=df_combustion_allICs.loc['Total']\n",
    "df_transp = new_df.T\n",
    "df_transp.to_excel(str(result_dir+\"/table3_all_impacts_recipe_\" + str(ei)+ \".xlsx\"))\n",
    "df_transp"
   ]
  },
  {
   "cell_type": "markdown",
   "id": "a632e04e-c1c0-4962-8b5e-6eff88a56579",
   "metadata": {},
   "source": [
    "# 8. Sensitivity analysis"
   ]
  },
  {
   "cell_type": "markdown",
   "id": "2d61f447-265e-4df6-b71e-948f97bc4257",
   "metadata": {},
   "source": [
    "### 8.1. Influence of the geographical location\n",
    "\n",
    "The change of geographical location influences the indirect emissions from the biorefinery and combustion scneario only. In this model, the direct emissions remain similar, no matter the geographical location. The percentage of losses is fixed to 0."
   ]
  },
  {
   "cell_type": "code",
   "execution_count": null,
   "id": "39417f06-15c7-49c7-8924-eee95e3b5024",
   "metadata": {},
   "outputs": [],
   "source": [
    "bioref_model = alg.newActivity(db_name = USER_DB,\n",
    "                               name = 'bioref_model',\n",
    "                               unit = 'unit',\n",
    "                               exchanges={lipophilic_extraction:1, \n",
    "                                            sugar_extraction_withlosses:1, \n",
    "                                            pulping_withlosses:1, \n",
    "                                            heat_burdens:1, \n",
    "                                            #processA, \n",
    "                                            #processB, \n",
    "                                            #processC, \n",
    "                                            heat_residues:1, \n",
    "                                            # EoL\n",
    "                                            EoL_pulp_biomed:1,\n",
    "                                            EoL_pulp_textile:1, \n",
    "                                            EoL_pulp_nanocomposite:1,\n",
    "                                            EoL_phenol_auto:1, \n",
    "                                            EoL_phenol_construction:1, \n",
    "                                            EoL_phenol_furniture:1, \n",
    "                                            EoL_phenol_electronics:1, \n",
    "                                            EoL_phenol_others:1, \n",
    "                                            EoL_starch_cardboard:1, \n",
    "                                            EoL_talloil_biofuel:1,                                   \n",
    "                                            # substitution\n",
    "                                            talloil_sub:1,\n",
    "                                            starch_sub:1,\n",
    "                                            phenol_sub:1, \n",
    "                                            pulp_sub:1})"
   ]
  },
  {
   "cell_type": "code",
   "execution_count": null,
   "id": "ce0bbe71-c711-478f-98ae-d96a25ddbfc5",
   "metadata": {},
   "outputs": [],
   "source": [
    "df_bioref_standalone_geoloc = alg.compute_impacts([bioref_model],\n",
    "                                                  # lcia method\n",
    "                                                  [ipcc2021],\n",
    "                                                    # parameters\n",
    "                                                    standalone = 1,\n",
    "                                                    percentage_losses = 0,\n",
    "                                                    grid_loc = ['grid_SE','grid_SE','grid_NO','grid_FI','grid_DK','grid_FR','grid_DE','grid_BE','grid_LU','grid_NL','grid_AT','grid_RER'],\n",
    "                                                    mw_loc = ['mw_RER','mw_SE','mw_NO','mw_FI','mw_DK','mw_FR','mw_DE','mw_BE','mw_LU','mw_NL','mw_AT','mw_RER']\n",
    "                                                  )\n",
    "\n",
    "df_bioref_integrated_geoloc = alg.compute_impacts([bioref_model],\n",
    "                                                  # lcia method\n",
    "                                                  [ipcc2021],\n",
    "                                                    # parameters\n",
    "                                                    standalone = 0,\n",
    "                                                    percentage_losses = 0,\n",
    "                                                    grid_loc = ['grid_SE','grid_SE','grid_NO','grid_FI','grid_DK','grid_FR','grid_DE','grid_BE','grid_LU','grid_NL','grid_AT','grid_RER'],\n",
    "                                                    mw_loc = ['mw_RER','mw_SE','mw_NO','mw_FI','mw_DK','mw_FR','mw_DE','mw_BE','mw_LU','mw_NL','mw_AT','mw_RER']\n",
    "                                                  )\n",
    "\n",
    "df_combustion_geoloc = alg.compute_impacts([heat_CHP_bark_scaled],\n",
    "                            [ipcc2021],\n",
    "                            # parameters\n",
    "                            percentage_losses = 0,\n",
    "                            grid_loc = ['grid_SE','grid_SE','grid_NO','grid_FI','grid_DK','grid_FR','grid_DE','grid_BE','grid_LU','grid_NL','grid_AT','grid_RER'],\n",
    "                            mw_loc = ['mw_RER','mw_SE','mw_NO','mw_FI','mw_DK','mw_FR','mw_DE','mw_BE','mw_LU','mw_NL','mw_AT','mw_RER']\n",
    "                            )"
   ]
  },
  {
   "cell_type": "code",
   "execution_count": null,
   "id": "89387c5a-0e2c-41f9-ac8b-99ae987357a7",
   "metadata": {},
   "outputs": [],
   "source": [
    "# merge the three dataframes\n",
    "merged_df_geoloc = pd.concat([df_bioref_standalone_geoloc, df_bioref_integrated_geoloc, df_combustion_geoloc], axis = 1)\n",
    "# change the name of the columns\n",
    "merged_df_geoloc.columns = ['Stand-alone biorefinery', 'Integrated biorefinery', 'Combustion']\n",
    "merged_df_geoloc.index = ['Base.', 'SE', 'NO', 'FI', 'DK', 'FR', 'DE', 'BE', 'LU', 'NL', 'AT', 'RER']\n",
    "# add the GWP100 for direct CO2 emissions (same for all scenarios) \n",
    "merged_df_geoloc+=1.83\n",
    "merged_df_geoloc"
   ]
  },
  {
   "cell_type": "code",
   "execution_count": null,
   "id": "34153468-2f9e-4d3b-9b11-9b30d132ba4e",
   "metadata": {},
   "outputs": [],
   "source": [
    "# Plotting the data\n",
    "fig, ax = plt.subplots(figsize=(7, 5))\n",
    "\n",
    "plt.scatter(merged_df_geoloc.index, merged_df_geoloc['Stand-alone biorefinery'], label='Stand-alone biorefinery', marker='o', color = '#332288', s=100)\n",
    "plt.scatter(merged_df_geoloc.index, merged_df_geoloc['Integrated biorefinery'], label='Integrated biorefinery', marker='s', color = '#44AA99', s=100)\n",
    "plt.scatter(merged_df_geoloc.index, merged_df_geoloc['Combustion'], label='Combustion', marker='^', color = '#CC6677', s=100)\n",
    "\n",
    "# Adding titles and labels\n",
    "plt.xlabel('Geographical location (country)', size =14)\n",
    "plt.ylabel('Static climate impacts (kg CO2-eq/FU)', size=14)\n",
    "plt.legend(frameon=False, fontsize=14)\n",
    "\n",
    "ax.spines['top'].set_visible(False)\n",
    "ax.spines['right'].set_visible(False)\n",
    "\n",
    "ax.tick_params(axis='x', labelsize=14, rotation=0)\n",
    "ax.tick_params(axis='y', labelsize=14)\n",
    "\n",
    "    \n",
    "plt.tight_layout()\n",
    "plt.savefig(str(result_dir+'/SM1_sensitivity_geoloc_GWP100_'+ei+'.pdf'), dpi=300)\n",
    "\n",
    "\n",
    "# Show plot\n",
    "plt.show()"
   ]
  },
  {
   "cell_type": "markdown",
   "id": "a9e801fc-5601-45a1-b335-a06bb1da69b3",
   "metadata": {},
   "source": [
    "## 8.2. Influence of the background data\n",
    "\n",
    "The choice of the background database influences the calculation of the indirect emissions. To perform this sensitivity analysis, the code above needs to be run until the end of Section 8.3, for each of the background databases. The results obtained are stored in Excel files that are imported below to plot the sensisitvity analysis graph. "
   ]
  },
  {
   "cell_type": "code",
   "execution_count": null,
   "id": "b67e8b78-982a-4d59-af38-5d398b4bd220",
   "metadata": {},
   "outputs": [],
   "source": [
    "# import the data from the Excel files\n",
    "df_ei39 = pd.read_excel(str(result_dir+'/total_static_climate_impacts_IPCC_ecoinvent_3.9_conseq.xlsx'))\n",
    "df_ei39_REMIND_SSP2_Base = pd.read_excel(str(result_dir+'/total_static_climate_impacts_IPCC_ecoinvent_consequential_3.9_remind_SSP2-Base_2045.xlsx'))\n",
    "df_ei39_REMIND_SSP2_PkBudg500 = pd.read_excel(str(result_dir+'/total_static_climate_impacts_IPCC_ecoinvent_consequential_3.9_remind_SSP2-PkBudg500_2045.xlsx'))\n",
    "df_ei39_REMIND_SSP1_PkBudg500 = pd.read_excel(str(result_dir+'/total_static_climate_impacts_IPCC_ecoinvent_consequential_3.9_remind_SSP1-PkBudg500_2045.xlsx'))\n",
    "df_ei39_IMAGE_SSP2_Base = pd.read_excel(str(result_dir+'/total_static_climate_impacts_IPCC_ecoinvent_consequential_3.9_image_SSP2-Base_2045.xlsx'))\n",
    "\n",
    "df_list = [df_ei39, df_ei39_REMIND_SSP2_PkBudg500, df_ei39_REMIND_SSP1_PkBudg500, df_ei39_REMIND_SSP2_Base, df_ei39_IMAGE_SSP2_Base]\n",
    "db_names = ['Conventional', 'REMIND-SSP2-PkBudg500-2045', 'REMIND-SSP1-PkBudg500-2045', 'REMIND-SSP2-Base-2045','IMAGE-SSP2-Base-2045']\n",
    "\n",
    "df_total_climate_impacts = pd.DataFrame(columns=['Stand-alone\\nbiorefinery','Integrated\\nbiorefinery','Combustion'])\n",
    "\n",
    "for i in range(len(df_list)):\n",
    "    df = df_list[i]\n",
    "    # reset the index\n",
    "    df = df.set_index('Unnamed: 0')\n",
    "    # calculate the total value\n",
    "    df.loc['Total'] = df.sum()\n",
    "    # add the total into the new dataframe\n",
    "    df_total_climate_impacts.loc[db_names[i]] = df.loc['Total'] \n",
    "\n",
    "df_total_climate_impacts"
   ]
  },
  {
   "cell_type": "code",
   "execution_count": null,
   "id": "f40b1ba7-9cb0-40ef-b9ab-9f19d90634fa",
   "metadata": {},
   "outputs": [],
   "source": [
    "# Marker styles and colors for different models\n",
    "markers = ['o', 's', '^', 'D', 'p']\n",
    "colors = ['#332288', '#44AA99', '#88CCEE', '#DDCC77', '#CC6677']\n",
    "scenarios= ['Stand-alone\\nbiorefinery','Integrated\\nbiorefinery','Combustion']\n",
    "\n",
    "# Create figure and axis\n",
    "fig, ax = plt.subplots(figsize=(7,5))\n",
    "\n",
    "# Set the positions of the x-ticks with reduced spacing\n",
    "x_positions = (np.arange(len(scenarios))*4)  # Reduced spacing\n",
    "\n",
    "# Plotting data points for each model in all scenarios\n",
    "for j, db in enumerate(db_names):\n",
    "    x_coords = []\n",
    "    y_coords = []\n",
    "    for i, scenario in enumerate(scenarios):\n",
    "        x_coords.append(x_positions[i])  # Adjusted x-axis position\n",
    "        y_coords.append(df_total_climate_impacts[scenario][db])  # Corresponding y-value for the model\n",
    "\n",
    "    # Plot each model with a unique marker and color\n",
    "    plt.scatter(x_coords, y_coords, marker=markers[j], facecolor = 'None',edgecolor=colors[j], s=100, label=db, linewidths=3)\n",
    "    #plt.scatter(x_coords, y_coords, marker=markers[j], color=colors[j], s=100, label=model)\n",
    "\n",
    "# Set labels and title#\n",
    "plt.xticks(ticks=x_positions, labels=scenarios, size=14)\n",
    "ax.set_xlim(-1.5,10)\n",
    "#plt.xlabel(\"Scenarios\")\n",
    "plt.ylabel(\"Static climate impact (kg CO2-eq/FU)\", size = 14)\n",
    "#plt.title(\"Scatter Plot of Different Scenarios and Models\")\n",
    "\n",
    "ax.spines['top'].set_visible(False)\n",
    "ax.spines['right'].set_visible(False)\n",
    "\n",
    "ax.tick_params(axis='x', labelsize=14, rotation=0)\n",
    "ax.tick_params(axis='y', labelsize=14)\n",
    "\n",
    "# Add legend for models, with a smaller font size and adjusted position\n",
    "plt.legend(frameon=False,bbox_to_anchor=(0.98, 0.98), loc='upper right', fontsize=14)\n",
    "\n",
    "# Show grid\n",
    "#plt.grid(True)\n",
    "\n",
    "# Adjust layout to make room for the legend\n",
    "plt.tight_layout()\n",
    "plt.savefig(str(result_dir+'/SM1_sensitivity_background_GWP100.pdf'), dpi=300)\n",
    "\n",
    "# Show the plot\n",
    "plt.show()"
   ]
  }
 ],
 "metadata": {
  "kernelspec": {
   "display_name": "Python 3 (ipykernel)",
   "language": "python",
   "name": "python3"
  },
  "language_info": {
   "codemirror_mode": {
    "name": "ipython",
    "version": 3
   },
   "file_extension": ".py",
   "mimetype": "text/x-python",
   "name": "python",
   "nbconvert_exporter": "python",
   "pygments_lexer": "ipython3",
   "version": "3.11.6"
  }
 },
 "nbformat": 4,
 "nbformat_minor": 5
}
